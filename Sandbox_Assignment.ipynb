{
  "nbformat": 4,
  "nbformat_minor": 0,
  "metadata": {
    "colab": {
      "name": "Sandbox_Assignment.ipynb",
      "provenance": [],
      "authorship_tag": "ABX9TyMgvhfxJECPJOUFpTjgFt1x",
      "include_colab_link": true
    },
    "kernelspec": {
      "name": "python3",
      "display_name": "Python 3"
    },
    "language_info": {
      "name": "python"
    }
  },
  "cells": [
    {
      "cell_type": "markdown",
      "metadata": {
        "id": "view-in-github",
        "colab_type": "text"
      },
      "source": [
        "<a href=\"https://colab.research.google.com/github/Mars096/ISYS5002_Assignmemnt/blob/main/Sandbox_Assignment.ipynb\" target=\"_parent\"><img src=\"https://colab.research.google.com/assets/colab-badge.svg\" alt=\"Open In Colab\"/></a>"
      ]
    },
    {
      "cell_type": "code",
      "metadata": {
        "id": "L9r00EyPA8Ji"
      },
      "source": [
        ""
      ],
      "execution_count": null,
      "outputs": []
    },
    {
      "cell_type": "markdown",
      "metadata": {
        "id": "H8IiBgmMBPBN"
      },
      "source": [
        "#Assignment Ideas\n",
        "\n",
        "The process of problem solving we will use can be broken down into 5 key steps:\n",
        "\n",
        "1. State the problem clearly\n",
        "2. Describe the input and output information\n",
        "3. Work the problem by hand\n",
        "4. Develop an algorithm (and convert to python)\n",
        "5. Test solution with a variety of data\n",
        "\n",
        "Program, Inputs, Processing and Outputs\n",
        "\n",
        "#Inputs\n",
        "*Input a ticker symbol. Not sure what the ticker symbol is?\n",
        "Note: To prompt the user, I guess I will need to use the input() function\n",
        "**Find out what a ticker symbol is**\n",
        "\n",
        "### Ticker Symbol \n",
        "A stock symbol is a unique series of letters assigned to a security for trading purposes. which is from: https://www.investopedia.com/terms/s/stocksymbol.asp\n",
        "\n",
        "#Processing\n",
        "*Scrape the Yahoo Website\n",
        "*Extract the 'Key Executivies'\n",
        "*Calculate income tax\n",
        "\n",
        "Note: In a previous Notebook, we calculate the tax based on ATO table. Might be use in this assignment.\n",
        "\n",
        "**TODO: Find Yahoo Website**\n",
        "\n",
        "Here is the webpage: https://au.finance.yahoo.com/\n",
        "\n",
        "Note: there is a search bar where I can find a company\n",
        "**TODO: Find the Key executivies**\n",
        "\n",
        "#Outputs\n",
        "*Save to CSV files\n",
        "*Save to SQL database\n",
        "\n",
        "**Work out what I have to save!!!**\n",
        "\n",
        "\n",
        "#Let Explore The Website\n",
        "\n",
        "1. Search for Coles\n",
        "\n",
        "\n",
        "Best guess. Coles tickers is COL.AX\n",
        "Note the '.AX' means Australian\n",
        "\n",
        "Just read the assignment task again ,it can be any company\n",
        "\n",
        "Find the Key Executivies in the profile page.\n",
        "\n",
        "Here is the URL for Coles: \n",
        "https://au.finance.yahoo.com/quote/COL.AX/profile?p=COL.AX&.tsrc=fin-srch\n",
        "\n",
        "2. Let's search for National Australia Bank\n",
        "\n",
        "The ticker is NAB.AX. Here is the URL profile webpage for NAB\n",
        "https://au.finance.yahoo.com/quote/NAB.AX/profile?p=NAB.AX\n",
        "\n",
        "Well, the interesting thing is there appears a pattern with the URL. I can see that the ticker twice in the URL.\n",
        "\n",
        "Manual processing is:\n",
        "\n",
        "1. Search for Ticker\n",
        "2. Click on Profile\n",
        "\n",
        "**TODO: Can I shortcut the processing and just use the URL**\n",
        "\n",
        "Look like I can edit the URL and replace the ticker. Seem like only the first ticker symbol is impotant, but for safe reason I will replace the both.\n",
        "\n",
        "\n",
        "\n"
      ]
    }
  ]
}