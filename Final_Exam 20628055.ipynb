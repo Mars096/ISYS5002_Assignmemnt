{
  "nbformat": 4,
  "nbformat_minor": 0,
  "metadata": {
    "colab": {
      "name": "Final Exam.ipynb",
      "provenance": [],
      "authorship_tag": "ABX9TyP+WoUzfMnCBnJdGBBD4Iwu",
      "include_colab_link": true
    },
    "kernelspec": {
      "name": "python3",
      "display_name": "Python 3"
    },
    "language_info": {
      "name": "python"
    }
  },
  "cells": [
    {
      "cell_type": "markdown",
      "metadata": {
        "id": "view-in-github",
        "colab_type": "text"
      },
      "source": [
        "<a href=\"https://colab.research.google.com/github/Mars096/ISYS5002_Assignmemnt/blob/main/Final_Exam%2020628055.ipynb\" target=\"_parent\"><img src=\"https://colab.research.google.com/assets/colab-badge.svg\" alt=\"Open In Colab\"/></a>"
      ]
    },
    {
      "cell_type": "code",
      "metadata": {
        "id": "PID1IDKsqkB7"
      },
      "source": [
        "import pandas as pd\n",
        "import matplotlib.pyplot as plt\n",
        "from matplotlib import style\n",
        "import numpy as np\n",
        "\n",
        "\n",
        "style.use('ggplot')\n",
        "\n",
        "\n",
        "def read():\n",
        "    df = pd.read_csv('./sales.csv') #read CSV files\n",
        "    new_df = df[df['Region'] == 'Australia and Oceania']# Extract the data from Australia and Oceania to form a new data frame\n",
        "\n",
        "    max_profit = new_df['Total Profit'].max() #Find the maximum value of total profit\n",
        "    max_profit_country = new_df[new_df['Total Profit'] == max_profit]['Country'].values[0] #Find the data row corresponding to the maximum value\n",
        "    print('The country of maximum profit in Australia and Oceania region is %s, the total profit is %s'%(max_profit_country,max_profit))\n",
        "\n",
        "    min_profit = new_df['Total Profit'].min()\n",
        "    min_profit_country = new_df[new_df['Total Profit'] == min_profit]['Country'].values[0]\n",
        "    print('The country of minumum profit in Australia and Oceania region is %s, the total profit is %s' % (\n",
        "    min_profit_country, min_profit))\n",
        "\n",
        "    #Copy a new data frame, so that the new data frame can be changed without changing the original data frame\n",
        "    new_df_1 = new_df.copy()\n",
        "    #Create a new column of Average Profit for new_df\n",
        "    new_df_1['Average Profit'] = new_df['Total Profit']/new_df['Units Sold']\n",
        "    #Average Profit = Total Profit / Total Sales\n",
        "    #Take the Country and Average Profit columns separately to form a new data frame\n",
        "    average_profit_country = new_df_1[['Country','Average Profit']]\n",
        "    print(average_profit_country)\n",
        "\n",
        "\n",
        "\n",
        "    plot_df = new_df.set_index('Country')#First index the Country's data seat and form a new index\n",
        "    plt.subplots_adjust(bottom=0.6)\n",
        "    plt.ylabel('Total Profit') #Set the axis name of the y axis\n",
        "    plot_df['Total Profit'].plot(kind='bar',rot=90)#Draw an icon, type kind is a histogram\n",
        "    plt.yticks(np.arange(0,2000000,500000))#Set the scale range of the y-axis\n",
        "\n",
        "    plt.show()#Display chart\n",
        "\n",
        "read()\n",
        "\n"
      ],
      "execution_count": null,
      "outputs": []
    }
  ]
}