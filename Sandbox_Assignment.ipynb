{
  "nbformat": 4,
  "nbformat_minor": 0,
  "metadata": {
    "colab": {
      "name": "Sandbox_Assignment.ipynb",
      "provenance": [],
      "authorship_tag": "ABX9TyOOeF5z6YeDS/iCwE0GU0QW",
      "include_colab_link": true
    },
    "kernelspec": {
      "name": "python3",
      "display_name": "Python 3"
    },
    "language_info": {
      "name": "python"
    }
  },
  "cells": [
    {
      "cell_type": "markdown",
      "metadata": {
        "id": "view-in-github",
        "colab_type": "text"
      },
      "source": [
        "<a href=\"https://colab.research.google.com/github/Mars096/ISYS5002_Assignmemnt/blob/main/Sandbox_Assignment.ipynb\" target=\"_parent\"><img src=\"https://colab.research.google.com/assets/colab-badge.svg\" alt=\"Open In Colab\"/></a>"
      ]
    },
    {
      "cell_type": "code",
      "metadata": {
        "id": "L9r00EyPA8Ji"
      },
      "source": [
        ""
      ],
      "execution_count": null,
      "outputs": []
    },
    {
      "cell_type": "markdown",
      "metadata": {
        "id": "H8IiBgmMBPBN"
      },
      "source": [
        "#Assignment Ideas\n",
        "\n",
        "The process of problem solving we will use can be broken down into 5 key steps:\n",
        "\n",
        "1. State the problem clearly\n",
        "2. Describe the input and output information\n",
        "3. Work the problem by hand\n",
        "4. Develop an algorithm (and convert to python)\n",
        "5. Test solution with a variety of data\n",
        "\n",
        "Program, Inputs, Processing and Outputs\n",
        "\n",
        "#Inputs\n",
        "*Input a ticker symbol. Not sure what the ticker symbol is?\n",
        "Note: To prompt the user, I guess I will need to use the input() function\n",
        "**Find out what a ticker symbol is**\n",
        "\n",
        "### Ticker Symbol \n",
        "A stock symbol is a unique series of letters assigned to a security for trading purposes. which is from: https://www.investopedia.com/terms/s/stocksymbol.asp\n",
        "\n",
        "#Processing\n",
        "*Scrape the Yahoo Website\n",
        "*Extract the 'Key Executivies'\n",
        "*Calculate income tax\n",
        "\n",
        "Note: In a previous Notebook, we calculate the tax based on ATO table. Might be use in this assignment.\n",
        "\n",
        "**TODO: Find Yahoo Website**\n",
        "\n",
        "Here is the webpage: https://au.finance.yahoo.com/\n",
        "\n",
        "Note: there is a search bar where I can find a company\n",
        "**TODO: Find the Key executivies**\n",
        "\n",
        "#Outputs\n",
        "*Save to CSV files\n",
        "*Save to SQL database\n",
        "\n",
        "**Work out what I have to save!!!**\n",
        "\n",
        "\n",
        "#Let Explore The Website\n",
        "\n",
        "1. Search for Coles\n",
        "\n",
        "\n",
        "Best guess. Coles tickers is COL.AX\n",
        "Note the '.AX' means Australian\n",
        "\n",
        "Just read the assignment task again ,it can be any company\n",
        "\n",
        "Find the Key Executivies in the profile page.\n",
        "\n",
        "Here is the URL for Coles: \n",
        "https://au.finance.yahoo.com/quote/COL.AX/profile?p=COL.AX&.tsrc=fin-srch\n",
        "\n",
        "2. Let's search for National Australia Bank\n",
        "\n",
        "The ticker is NAB.AX. Here is the URL profile webpage for NAB\n",
        "https://au.finance.yahoo.com/quote/NAB.AX/profile?p=NAB.AX\n",
        "\n",
        "Well, the interesting thing is there appears a pattern with the URL. I can see that the ticker twice in the URL.\n",
        "\n",
        "Manual processing is:\n",
        "\n",
        "1. Search for Ticker\n",
        "2. Click on Profile\n",
        "\n",
        "**TODO: Can I shortcut the processing and just use the URL**\n",
        "\n",
        "Look like I can edit the URL and replace the ticker. Seem like only the first ticker symbol is impotant, but for safe reason I will replace the both.\n",
        "\n",
        "\n",
        "\n"
      ]
    },
    {
      "cell_type": "markdown",
      "metadata": {
        "id": "7Xjpm2R-MUoF"
      },
      "source": [
        "#Let's manual conculate the income tax\n",
        "\n",
        "Here is the table of Key Execusivies,copy_n_paste from:\n",
        "\n",
        "https://au.finance.yahoo.com/quote/NAB.AX/profile?p=NAB.AX\n",
        "\n",
        "~~~\n",
        "Mr. Ross Maxwell McEwan CBE, B.B.S.\tGroup CEO, MD & Director\t2.54M\tN/A\t1957\n",
        "Mr. Gary Andrew Lennon BEC, F.C.A., BEc (Hons), FCA\tGroup Chief Financial Officer\t1.13M\tN/A\tN/A\n",
        "Mr. Patrick F. Wright\tGroup Exec. of Technology & Enterprise Operations\t1.72M\tN/A\t1967\n",
        "Ms. Sharon J. Cook\tGroup Exec. of Legal & Commercial Services\t912.98k\tN/A\tN/A\n",
        "Ms. Susan Ferrier\tGroup Exec. of People & Culture\t929.27k\tN/A\tN/A\n",
        "Ms. Angela Mentis B.Bus\tGroup Chief Digital, Data & Analytics Officer\t1.62M\tN/A\tN/A\n",
        "Mr. Shaun Dooley\tChief Risk Officer\t1.05M\tN/A\tN/A\n",
        "Mr. Andrew Irvine\tChief Exec. of Bus. Private Banking Division\t333.27k\tN/A\tN/A\n",
        "Mr. Lesile D. Matheson\tGroup Chief Operating Officer\tN/A\tN/A\t1960\n",
        "Ms. Sally Mihell\tHead of Investor Relations\tN/A\tN/A\tN/A\n",
        "~~~\n",
        "\n",
        "\n",
        "Need to calculate the income tax\n",
        "*Need to know their Pay!\n",
        "\n",
        "Well\n",
        "\n",
        "First column is the name\n",
        "The secong column is the title\n",
        "The third column is their pay\n",
        "\n",
        "**TODO: How to get the third column**\n",
        "\n",
        "Lets consider one row.\n",
        "Note: The lecturer said, only need name, title, and pay*\n",
        "\n",
        "~~~\n",
        "Mr. Ross Maxwell McEwan CBE, B.B.S.\tGroup CEO, MD & Director\t2.54M\t\n",
        "~~~\n",
        "\n",
        "So the third column is pay, and for this row, that's '2.5M'\n",
        "I will assume 'M' means Millions, so there pay if '2.5'*1000000\n"
      ]
    },
    {
      "cell_type": "code",
      "metadata": {
        "colab": {
          "base_uri": "https://localhost:8080/"
        },
        "id": "RnUfGXg_dO1n",
        "outputId": "b6352bda-902b-47a8-e677-6cfa66d7613a"
      },
      "source": [
        "2.5*1000000"
      ],
      "execution_count": 1,
      "outputs": [
        {
          "output_type": "execute_result",
          "data": {
            "text/plain": [
              "2500000.0"
            ]
          },
          "metadata": {},
          "execution_count": 1
        }
      ]
    },
    {
      "cell_type": "markdown",
      "metadata": {
        "id": "pgq5fMPAdvD7"
      },
      "source": [
        "Inspact the table,again for another row(looking for differences)\n",
        "~~~\n",
        "Ms. Sharon J. Cook\tGroup Exec. of Legal & Commercial Services\t912.98k\t\n",
        "~~~\n",
        "\n",
        "Well, Notice the pay is '912.98k'\n",
        "\n",
        "\n",
        "Assume that 'k' means 1000, so their pay is '912.98'*1000"
      ]
    },
    {
      "cell_type": "code",
      "metadata": {
        "colab": {
          "base_uri": "https://localhost:8080/"
        },
        "id": "YlIFN6qFgXsN",
        "outputId": "258269e3-13ae-4f03-c5d6-619b89639124"
      },
      "source": [
        "912.98*1000"
      ],
      "execution_count": 2,
      "outputs": [
        {
          "output_type": "execute_result",
          "data": {
            "text/plain": [
              "912980.0"
            ]
          },
          "metadata": {},
          "execution_count": 2
        }
      ]
    },
    {
      "cell_type": "markdown",
      "metadata": {
        "id": "nbrE1jf2ggO1"
      },
      "source": [
        "Lets check to see if any other row is different\n",
        "```\n",
        "Mr. Lesile D. Matheson\tGroup Chief Operating Officer\tN/A\t\n",
        "```\n",
        "\n",
        "Umm...what to do about N/A\n",
        "\n",
        "**TODO: Work out how to process N/A**\n",
        "Well thats seems to be all the different types of rows, or different type of pay.\n",
        "\n",
        "Lets calculate the income tax. Lets look at the tax notebook. Here is the function from the tax notebook:\n",
        "```\n",
        "def calculate_tax(income):\n",
        "  if income <= 18200:\n",
        "    tax_payable = 0\n",
        "  elif 18200 < income <= 45000:\n",
        "    tax_payable = 0.19 * (income - 18200)\n",
        "  elif 45000 < income < 120000:\n",
        "    tax_payable = 5092 + 0.32 * (income - 45000)\n",
        "  elif 120000 < income < 180000:\n",
        "    tax_payable = 29467 + 0.37 * (income - 120000)\n",
        "  elif 180000 < income:\n",
        "    tax_payable = 51667 + 0.45 * (income - 180000)\n",
        "\n",
        "  return tax_payable\n",
        "```\n",
        "\n",
        "I happy that works, because I tested it ealier.\n",
        "income_tax= calculate_tax(pay)"
      ]
    },
    {
      "cell_type": "markdown",
      "metadata": {
        "id": "Eb60Gj_2tpPL"
      },
      "source": [
        "# Initial Algorithm\n",
        "\n",
        "1. User input ticker symbol\n",
        "2. Use ticker to get profile page\n",
        "3. Copied the table\n",
        "4. For each row of the table\n",
        "5. Process a row to extract pay\n",
        "6. Find the last character to determin mutiplier\n",
        "7. Calculate salary, pay*multiplier\n",
        "8. Calculate the income tax\n",
        "\n",
        "Note:\n",
        "1. Need to validate the ticker,but for now I will assume the user type in a correct ticker\n",
        "2. Still need to work out where I save the income tax "
      ]
    },
    {
      "cell_type": "code",
      "metadata": {
        "colab": {
          "base_uri": "https://localhost:8080/"
        },
        "id": "JXK_a77I0gYE",
        "outputId": "ae69c667-5c24-4112-9d1d-b9c975084a8b"
      },
      "source": [
        "# Usually run of Google Coolab, so install unique packages\n",
        "!pip install kora -q\n",
        "\n",
        "#load packages\n",
        "from bs4 import BeautifulSoup\n",
        "from kora.selenium import wd\n",
        "import pandas as pd\n"
      ],
      "execution_count": 14,
      "outputs": [
        {
          "output_type": "stream",
          "name": "stdout",
          "text": [
            "\u001b[K     |████████████████████████████████| 57 kB 2.8 MB/s \n",
            "\u001b[K     |████████████████████████████████| 56 kB 4.5 MB/s \n",
            "\u001b[?25h"
          ]
        }
      ]
    },
    {
      "cell_type": "code",
      "metadata": {
        "id": "xZqXI4gzyEvz"
      },
      "source": [
        "def make_url():\n",
        "  #Step1: User input ticker symbol\n",
        "  ticker_symbol= input(\"Please input ticker symbol\")\n",
        "  #print(ticker_symbol)\n",
        "  example_url= 'https://au.finance.yahoo.com/quote/{}/profile?p={}'\n",
        "  result = example_url.format(ticker_symbol, ticker_symbol)\n",
        "  return result"
      ],
      "execution_count": 12,
      "outputs": []
    },
    {
      "cell_type": "code",
      "metadata": {
        "id": "MYORw_uCzJTe"
      },
      "source": [
        "# Get URL\n",
        "url= make_url()\n",
        "wd.get(url)\n",
        "soup= BeautifulSoup(wd.page_source,\"html.pareer\")"
      ],
      "execution_count": null,
      "outputs": []
    },
    {
      "cell_type": "code",
      "metadata": {
        "colab": {
          "base_uri": "https://localhost:8080/"
        },
        "id": "4hWxWQlp7kFq",
        "outputId": "a02841cc-d701-4f4c-9b84-ae8739e871ba"
      },
      "source": [
        "table = soup.find('table')\n",
        "body = table.find('tbody')\n",
        "rows = body.find_all('tr')\n",
        "\n",
        "#For Now process one row\n",
        "#Work out how to do all rows later\n",
        "row = rows[0]\n",
        "\n",
        "cells = row.find_all('td')\n",
        "name = cells[0].text\n",
        "title = cells[1].text\n",
        "pay = cells[2].text\n",
        "print(pay)"
      ],
      "execution_count": 28,
      "outputs": [
        {
          "output_type": "stream",
          "name": "stdout",
          "text": [
            "2.54M\n"
          ]
        }
      ]
    },
    {
      "cell_type": "code",
      "metadata": {
        "id": "hn3laxiN-HEc"
      },
      "source": [
        "def get_first_3_cells(row):\n",
        "  cells = row.find_all('td')\n",
        "  name = cells[0].text\n",
        "  title = cells[1].text\n",
        "  pay = cells[2].text\n",
        "  return {'name':name, 'title':title, 'pay':pay}"
      ],
      "execution_count": 41,
      "outputs": []
    },
    {
      "cell_type": "code",
      "metadata": {
        "colab": {
          "base_uri": "https://localhost:8080/"
        },
        "id": "xO_pOEib-dQE",
        "outputId": "0f336169-baa5-4498-98aa-77cc43df8fc1"
      },
      "source": [
        "get_first_3_cells(rows[0])"
      ],
      "execution_count": 43,
      "outputs": [
        {
          "output_type": "execute_result",
          "data": {
            "text/plain": [
              "{'name': 'Mr. Ross Maxwell McEwan CBE, B.B.S.',\n",
              " 'pay': '2.54M',\n",
              " 'title': 'Group CEO, MD & Director'}"
            ]
          },
          "metadata": {},
          "execution_count": 43
        }
      ]
    },
    {
      "cell_type": "code",
      "metadata": {
        "colab": {
          "base_uri": "https://localhost:8080/"
        },
        "id": "36ZZ44DpAgrd",
        "outputId": "08d634b2-afb5-4016-e063-1830c536d418"
      },
      "source": [
        "exec_records = []\n",
        "for row in rows:\n",
        "  result = get_first_3_cells(row)\n",
        "  exec_records.append(result)\n",
        "\n",
        "print(exec_records)"
      ],
      "execution_count": 45,
      "outputs": [
        {
          "output_type": "stream",
          "name": "stdout",
          "text": [
            "[{'name': 'Mr. Ross Maxwell McEwan CBE, B.B.S.', 'title': 'Group CEO, MD & Director', 'pay': '2.54M'}, {'name': 'Mr. Gary Andrew Lennon BEC, F.C.A., BEc (Hons), FCA', 'title': 'Group Chief Financial Officer', 'pay': '1.13M'}, {'name': 'Mr. Patrick F. Wright', 'title': 'Group Exec. of Technology & Enterprise Operations', 'pay': '1.72M'}, {'name': 'Ms. Sharon J. Cook', 'title': 'Group Exec. of Legal & Commercial Services', 'pay': '912.98k'}, {'name': 'Ms. Susan  Ferrier', 'title': 'Group Exec. of People & Culture', 'pay': '929.27k'}, {'name': 'Ms. Angela  Mentis B.Bus', 'title': 'Group Chief Digital, Data & Analytics Officer', 'pay': '1.62M'}, {'name': 'Mr. Shaun  Dooley', 'title': 'Chief Risk Officer', 'pay': '1.05M'}, {'name': 'Mr. Andrew  Irvine', 'title': 'Chief Exec. of Bus. Private Banking Division', 'pay': '333.27k'}, {'name': 'Mr. Lesile D. Matheson', 'title': 'Group Chief Operating Officer', 'pay': 'N/A'}, {'name': 'Ms. Sally  Mihell', 'title': 'Head of Investor Relations', 'pay': 'N/A'}]\n"
          ]
        }
      ]
    },
    {
      "cell_type": "code",
      "metadata": {
        "id": "u1TuBR9bBGtG"
      },
      "source": [
        "def get_exec_records(soup):\n",
        "  exec_records=[]\n",
        "  for row in rows:\n",
        "    result = get_first_3_cells(row)\n",
        "    exec_records.append(result)\n",
        "  return exec_records"
      ],
      "execution_count": 47,
      "outputs": []
    },
    {
      "cell_type": "code",
      "metadata": {
        "colab": {
          "base_uri": "https://localhost:8080/"
        },
        "id": "iHtLdnVeBnDB",
        "outputId": "b2143cd2-2157-43cc-fef1-c004c84364ff"
      },
      "source": [
        "get_exec_records()"
      ],
      "execution_count": 49,
      "outputs": [
        {
          "output_type": "execute_result",
          "data": {
            "text/plain": [
              "[{'name': 'Mr. Ross Maxwell McEwan CBE, B.B.S.',\n",
              "  'pay': '2.54M',\n",
              "  'title': 'Group CEO, MD & Director'},\n",
              " {'name': 'Mr. Gary Andrew Lennon BEC, F.C.A., BEc (Hons), FCA',\n",
              "  'pay': '1.13M',\n",
              "  'title': 'Group Chief Financial Officer'},\n",
              " {'name': 'Mr. Patrick F. Wright',\n",
              "  'pay': '1.72M',\n",
              "  'title': 'Group Exec. of Technology & Enterprise Operations'},\n",
              " {'name': 'Ms. Sharon J. Cook',\n",
              "  'pay': '912.98k',\n",
              "  'title': 'Group Exec. of Legal & Commercial Services'},\n",
              " {'name': 'Ms. Susan  Ferrier',\n",
              "  'pay': '929.27k',\n",
              "  'title': 'Group Exec. of People & Culture'},\n",
              " {'name': 'Ms. Angela  Mentis B.Bus',\n",
              "  'pay': '1.62M',\n",
              "  'title': 'Group Chief Digital, Data & Analytics Officer'},\n",
              " {'name': 'Mr. Shaun  Dooley', 'pay': '1.05M', 'title': 'Chief Risk Officer'},\n",
              " {'name': 'Mr. Andrew  Irvine',\n",
              "  'pay': '333.27k',\n",
              "  'title': 'Chief Exec. of Bus. Private Banking Division'},\n",
              " {'name': 'Mr. Lesile D. Matheson',\n",
              "  'pay': 'N/A',\n",
              "  'title': 'Group Chief Operating Officer'},\n",
              " {'name': 'Ms. Sally  Mihell',\n",
              "  'pay': 'N/A',\n",
              "  'title': 'Head of Investor Relations'}]"
            ]
          },
          "metadata": {},
          "execution_count": 49
        }
      ]
    }
  ]
}